{
 "cells": [
  {
   "cell_type": "code",
   "execution_count": 1,
   "id": "5ca0d3d6",
   "metadata": {},
   "outputs": [],
   "source": [
    "from nmf_md import *\n",
    "\n",
    "import timeit\n",
    "import numpy as np\n",
    "import matplotlib.pyplot as plt\n",
    "import pandas as pd\n",
    "import scipy.sparse as sps"
   ]
  },
  {
   "cell_type": "code",
   "execution_count": 2,
   "id": "2c0deab8",
   "metadata": {},
   "outputs": [],
   "source": [
    "# Test dataset generation\n",
    "#fac = 10\n",
    "#d = 5\n",
    "\n",
    "#np.random.seed(42)\n",
    "#M = np.random.rand(5 * fac, 10 * fac)\n",
    "#w_0 = np.random.rand(5 * fac, d)\n",
    "#h_0 = np.random.rand(d, 10 * fac)"
   ]
  },
  {
   "cell_type": "markdown",
   "id": "fe6cd598",
   "metadata": {},
   "source": [
    "## Test dataset loading and matrix initialization"
   ]
  },
  {
   "cell_type": "code",
   "execution_count": 3,
   "id": "6f2ebdbd",
   "metadata": {},
   "outputs": [
    {
     "name": "stdout",
     "output_type": "stream",
     "text": [
      "Size of M: 88.81 MB\n",
      "True\n",
      "Size of M_md: 9.03 MB\n"
     ]
    }
   ],
   "source": [
    "df = pd.read_csv('converted.csv')\n",
    "format_size = 4\n",
    "\n",
    "M = df.to_numpy().astype('float32')\n",
    "M /= 5\n",
    "print(f\"Size of M: {(M.size * format_size)/1000_000:.2f} MB\")\n",
    "\n",
    "d = 100\n",
    "m, n = M.shape\n",
    "w_0 = np.random.rand(m, d)\n",
    "h_0 = np.random.rand(d, n)\n",
    "\n",
    "M_md = sps.csr_matrix(M, dtype='float32')\n",
    "print(isinstance(M_md, sps.csr_matrix))\n",
    "print(f\"Size of M_md: {(len(M_md.indptr) * 8 + len(M_md.indices) * 8 + len(M_md.data) * format_size)/1000_000:.2f} MB\")"
   ]
  },
  {
   "cell_type": "markdown",
   "id": "e9f3df7c",
   "metadata": {},
   "source": [
    "Setup parameters for the algorithm\n",
    "- steps: iterations of the outer loop\n",
    "- delta: minimum value in W, H --> 0 for base NMF\n",
    "- error: error function for logging (can be replaced by any function accepting 2 matrices as input)"
   ]
  },
  {
   "cell_type": "code",
   "execution_count": 4,
   "id": "a794f4c7",
   "metadata": {},
   "outputs": [],
   "source": [
    "# Algorithm parameters\n",
    "steps = 100\n",
    "delta = 0"
   ]
  },
  {
   "cell_type": "markdown",
   "id": "18357544",
   "metadata": {},
   "source": [
    "Setup variables for algorithm execution\n",
    "- Create copies of initialized W, H for repetetive tests with the same starting points\n",
    "- Create logging dictionaries that will log time and error"
   ]
  },
  {
   "cell_type": "code",
   "execution_count": 5,
   "id": "bb425fe7",
   "metadata": {},
   "outputs": [],
   "source": [
    "# Variable setup\n",
    "Ws, Hs = [], []\n",
    "for i in range(2):\n",
    "    Ws.append(np.copy(w_0))\n",
    "    Hs.append(np.copy(h_0))\n",
    "\n",
    "log_1 = {}\n",
    "log_2 = {}\n",
    "\n",
    "#_, _, c_1 = NMF(M, Ws[0], Hs[0], mu_w, mu_h, delta, steps, 'rmse', log_1)\n",
    "_, _, c_1 = NMF_md(M, Ws[0], Hs[0], mu_w, mu_h, delta, steps, 'rmse', log_1)\n",
    "_, _, c_2 = NMF_md(M_md, Ws[1], Hs[1], mu_w, mu_h, delta, steps, 'rmse', log_2)\n"
   ]
  },
  {
   "cell_type": "markdown",
   "id": "8af7f48e",
   "metadata": {},
   "source": [
    "Repeat same setup for timed execution of the functions\n",
    "- n: number of executions of each algorithm to be performed"
   ]
  },
  {
   "cell_type": "code",
   "execution_count": 8,
   "id": "331bae2f",
   "metadata": {},
   "outputs": [],
   "source": [
    "# Variable setup for timing\n",
    "Ws, Hs = [], []\n",
    "for i in range(2):\n",
    "    Ws.append(np.copy(w_0))\n",
    "    Hs.append(np.copy(h_0))\n",
    "\n",
    "n = 1\n",
    "\n",
    "result = [0, 0]\n",
    "result[0] = timeit.timeit(stmt=\"NMF(M, Ws[0], Hs[0], mu_w, mu_h, delta, steps, 'error')\", globals=globals(), number=n)\n",
    "result[1] = timeit.timeit(stmt=\"NMF_md(M_md, Ws[1], Hs[1], mu_w, mu_h, delta, steps, 'error')\", globals=globals(), number=n)\n"
   ]
  },
  {
   "cell_type": "markdown",
   "id": "5bbf3d5d",
   "metadata": {},
   "source": [
    "## Results\n",
    "Print some of the collected results (mainly for debugging and verification)"
   ]
  },
  {
   "cell_type": "code",
   "execution_count": 9,
   "id": "9f67ac1c",
   "metadata": {},
   "outputs": [
    {
     "name": "stdout",
     "output_type": "stream",
     "text": [
      "Step   0: MU 25.08071, MU_md 24.36622\n",
      "Step   1: MU 0.12428, MU_md 0.62723\n",
      "Step   2: MU 0.12392, MU_md 0.62215\n",
      "Step   3: MU 0.12384, MU_md 0.62133\n",
      "Step   4: MU 0.12374, MU_md 0.62051\n",
      "Step   5: MU 0.12362, MU_md 0.61946\n",
      "Step   6: MU 0.12343, MU_md 0.61799\n",
      "Step   7: MU 0.12316, MU_md 0.61578\n",
      "Step   8: MU 0.12273, MU_md 0.61232\n",
      "Step   9: MU 0.12207, MU_md 0.60698\n",
      "Step  10: MU 0.12113, MU_md 0.59934\n",
      "Step  11: MU 0.12000, MU_md 0.59009\n",
      "Step  12: MU 0.11885, MU_md 0.58079\n",
      "Step  13: MU 0.11779, MU_md 0.57238\n",
      "Step  14: MU 0.11684, MU_md 0.56506\n",
      "Step  15: MU 0.11600, MU_md 0.55877\n",
      "Step  16: MU 0.11525, MU_md 0.55336\n",
      "Step  17: MU 0.11459, MU_md 0.54868\n",
      "Step  18: MU 0.11400, MU_md 0.54459\n",
      "Step  19: MU 0.11347, MU_md 0.54098\n",
      "Step  20: MU 0.11299, MU_md 0.53778\n",
      "Step  21: MU 0.11256, MU_md 0.53492\n",
      "Step  22: MU 0.11217, MU_md 0.53235\n",
      "Step  23: MU 0.11181, MU_md 0.53003\n",
      "Step  24: MU 0.11149, MU_md 0.52793\n",
      "Step  25: MU 0.11118, MU_md 0.52602\n",
      "Step  26: MU 0.11090, MU_md 0.52428\n",
      "Step  27: MU 0.11065, MU_md 0.52269\n",
      "Step  28: MU 0.11041, MU_md 0.52123\n",
      "Step  29: MU 0.11018, MU_md 0.51988\n",
      "Step  30: MU 0.10998, MU_md 0.51865\n",
      "Step  31: MU 0.10978, MU_md 0.51750\n",
      "Step  32: MU 0.10960, MU_md 0.51645\n",
      "Step  33: MU 0.10943, MU_md 0.51546\n",
      "Step  34: MU 0.10926, MU_md 0.51454\n",
      "Step  35: MU 0.10911, MU_md 0.51369\n",
      "Step  36: MU 0.10897, MU_md 0.51289\n",
      "Step  37: MU 0.10883, MU_md 0.51214\n",
      "Step  38: MU 0.10870, MU_md 0.51144\n",
      "Step  39: MU 0.10857, MU_md 0.51079\n",
      "Step  40: MU 0.10845, MU_md 0.51017\n",
      "Step  41: MU 0.10834, MU_md 0.50959\n",
      "Step  42: MU 0.10823, MU_md 0.50904\n",
      "Step  43: MU 0.10813, MU_md 0.50852\n",
      "Step  44: MU 0.10803, MU_md 0.50803\n",
      "Step  45: MU 0.10794, MU_md 0.50756\n",
      "Step  46: MU 0.10784, MU_md 0.50712\n",
      "Step  47: MU 0.10776, MU_md 0.50670\n",
      "Step  48: MU 0.10767, MU_md 0.50630\n",
      "Step  49: MU 0.10759, MU_md 0.50592\n",
      "Step  50: MU 0.10751, MU_md 0.50556\n",
      "Step  51: MU 0.10744, MU_md 0.50522\n",
      "Step  52: MU 0.10737, MU_md 0.50489\n",
      "Step  53: MU 0.10730, MU_md 0.50457\n",
      "Step  54: MU 0.10723, MU_md 0.50427\n",
      "Step  55: MU 0.10716, MU_md 0.50398\n",
      "Step  56: MU 0.10710, MU_md 0.50370\n",
      "Step  57: MU 0.10704, MU_md 0.50343\n",
      "Step  58: MU 0.10697, MU_md 0.50318\n",
      "Step  59: MU 0.10692, MU_md 0.50293\n",
      "Step  60: MU 0.10686, MU_md 0.50269\n",
      "Step  61: MU 0.10680, MU_md 0.50246\n",
      "Step  62: MU 0.10675, MU_md 0.50224\n",
      "Step  63: MU 0.10669, MU_md 0.50203\n",
      "Step  64: MU 0.10664, MU_md 0.50182\n",
      "Step  65: MU 0.10659, MU_md 0.50162\n",
      "Step  66: MU 0.10654, MU_md 0.50143\n",
      "Step  67: MU 0.10650, MU_md 0.50124\n",
      "Step  68: MU 0.10645, MU_md 0.50106\n",
      "Step  69: MU 0.10640, MU_md 0.50089\n",
      "Step  70: MU 0.10636, MU_md 0.50072\n",
      "Step  71: MU 0.10631, MU_md 0.50055\n",
      "Step  72: MU 0.10627, MU_md 0.50039\n",
      "Step  73: MU 0.10623, MU_md 0.50023\n",
      "Step  74: MU 0.10619, MU_md 0.50007\n",
      "Step  75: MU 0.10615, MU_md 0.49992\n",
      "Step  76: MU 0.10611, MU_md 0.49978\n",
      "Step  77: MU 0.10607, MU_md 0.49964\n",
      "Step  78: MU 0.10604, MU_md 0.49951\n",
      "Step  79: MU 0.10600, MU_md 0.49938\n",
      "Step  80: MU 0.10597, MU_md 0.49925\n",
      "Step  81: MU 0.10594, MU_md 0.49913\n",
      "Step  82: MU 0.10591, MU_md 0.49901\n",
      "Step  83: MU 0.10588, MU_md 0.49890\n",
      "Step  84: MU 0.10585, MU_md 0.49879\n",
      "Step  85: MU 0.10582, MU_md 0.49868\n",
      "Step  86: MU 0.10579, MU_md 0.49858\n",
      "Step  87: MU 0.10577, MU_md 0.49848\n",
      "Step  88: MU 0.10574, MU_md 0.49838\n",
      "Step  89: MU 0.10572, MU_md 0.49829\n",
      "Step  90: MU 0.10570, MU_md 0.49820\n",
      "Step  91: MU 0.10567, MU_md 0.49811\n",
      "Step  92: MU 0.10565, MU_md 0.49803\n",
      "Step  93: MU 0.10563, MU_md 0.49794\n",
      "Step  94: MU 0.10561, MU_md 0.49786\n",
      "Step  95: MU 0.10559, MU_md 0.49779\n",
      "Step  96: MU 0.10557, MU_md 0.49772\n",
      "Step  97: MU 0.10555, MU_md 0.49764\n",
      "Step  98: MU 0.10554, MU_md 0.49758\n",
      "Step  99: MU 0.10552, MU_md 0.49751\n",
      "Step 100: MU 0.10550, MU_md 0.49744\n",
      "\n",
      "Mat. [w]: MU  100, MU_md  100\n",
      "Mat. [h]: MU  100, MU_md  100\n",
      "\n",
      "Times: MU 37.97s, MU_md 5.96s\n"
     ]
    }
   ],
   "source": [
    "# Print Error Development\n",
    "for i, (l1, l2) in enumerate(zip(log_1, log_2)):\n",
    "    print(f\"Step {i:3d}: MU {log_1[l1]:.5f}, MU_md {log_2[l2]:.5f}\")\n",
    "\n",
    "print()\n",
    "\n",
    "# Print total updates for W and H\n",
    "for i in ['w', 'h']:\n",
    "    print(f\"Mat. [{i}]: MU {c_1[i]:4d}, MU_md {c_2[i]:4d}\")\n",
    "\n",
    "print()\n",
    "\n",
    "# Print execution times in ms\n",
    "print(f\"Times: MU {result[0]/n:.2f}s, MU_md {result[1]/n:.2f}s\")"
   ]
  },
  {
   "cell_type": "markdown",
   "id": "f8d77a58",
   "metadata": {},
   "source": [
    "### Graph generation\n",
    "Plot recorded outputs on a graph that is X and Y limited to the interesting region for visibility"
   ]
  },
  {
   "cell_type": "code",
   "execution_count": 13,
   "id": "c4e7b4e0",
   "metadata": {
    "scrolled": false
   },
   "outputs": [
    {
     "data": {
      "image/png": "[encoded data removed]",
      "text/plain": [
       "<Figure size 640x480 with 1 Axes>"
      ]
     },
     "metadata": {},
     "output_type": "display_data"
    }
   ],
   "source": [
    "time_0, time_1, time_2, time_3 = [], [], [], []\n",
    "errs_0, errs_1, errs_2, errs_3 = [], [], [], []\n",
    "\n",
    "for i, k in enumerate(log_1):\n",
    "    time_0.append(k)\n",
    "    errs_0.append(log_1[k])\n",
    "time_0 = [x - time_0[0] for x in time_0]\n",
    "    \n",
    "for i, k in enumerate(log_2):\n",
    "    time_1.append(k)\n",
    "    errs_1.append(log_2[k])\n",
    "time_1 = [x - time_1[0] for x in time_1]\n",
    "\n",
    "\n",
    "plt.plot(time_0, errs_0, 'r', label='MU')\n",
    "plt.plot(time_1, errs_1, 'b', label='MU_md')\n",
    "#plt.yscale('log')\n",
    "#plt.xscale('log')\n",
    "plt.xlim([0, 60])\n",
    "plt.ylim([0, 2])\n",
    "plt.ylabel('RMSE')\n",
    "plt.xlabel('s')\n",
    "plt.title('Error vs. Time for different NMF Algorithms')\n",
    "plt.legend()\n",
    "plt.show()\n"
   ]
  },
  {
   "cell_type": "code",
   "execution_count": null,
   "id": "1154bcd6",
   "metadata": {},
   "outputs": [],
   "source": []
  }
 ],
 "metadata": {
  "kernelspec": {
   "display_name": "Python 3.9.6 64-bit",
   "language": "python",
   "name": "python3"
  },
  "language_info": {
   "codemirror_mode": {
    "name": "ipython",
    "version": 3
   },
   "file_extension": ".py",
   "mimetype": "text/x-python",
   "name": "python",
   "nbconvert_exporter": "python",
   "pygments_lexer": "ipython3",
   "version": "3.9.6"
  },
  "vscode": {
   "interpreter": {
    "hash": "31f2aee4e71d21fbe5cf8b01ff0e069b9275f58929596ceb00d14d90e3e16cd6"
   }
  }
 },
 "nbformat": 4,
 "nbformat_minor": 5
}
