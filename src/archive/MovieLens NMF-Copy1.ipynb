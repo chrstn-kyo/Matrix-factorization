{
 "cells": [
  {
   "cell_type": "code",
   "execution_count": 1,
   "id": "d33538c9",
   "metadata": {},
   "outputs": [],
   "source": [
    "import numpy as np\n",
    "import pandas as pd\n",
    "from urllib.request import urlretrieve\n",
    "import zipfile\n",
    "import scipy.sparse as sps\n",
    "import time as time\n",
    "import csv\n",
    "import sklearn\n",
    "\n",
    "from pcteam.utils import *\n",
    "from pcteam.nmf import *"
   ]
  },
  {
   "cell_type": "code",
   "execution_count": 2,
   "id": "8ef3dc29",
   "metadata": {},
   "outputs": [
    {
     "name": "stdout",
     "output_type": "stream",
     "text": [
      "Downloading MovieLens Dataset...\n",
      "Done\n"
     ]
    }
   ],
   "source": [
    "# Load Dataset\n",
    "# https://colab.research.google.com/github/google/eng-edu/blob/main/ml/recommendation-systems/recommendation-systems.ipynb\n",
    "\n",
    "print(\"Downloading MovieLens Dataset...\")\n",
    "\n",
    "dataset_name = \"ml-25m\" # To change after \"ml-latest-small\", \"ml-25m\"\n",
    "if not zipfile.is_zipfile(f\"{dataset_name}.zip\"):\n",
    "    urlretrieve(f\"https://files.grouplens.org/datasets/movielens/{dataset_name}.zip\", f\"{dataset_name}.zip\")\n",
    "zipfile.ZipFile(f\"{dataset_name}.zip\", \"r\").extractall()\n",
    "\n",
    "print(\"Done\")"
   ]
  },
  {
   "cell_type": "code",
   "execution_count": 3,
   "id": "a5b2ce53",
   "metadata": {},
   "outputs": [],
   "source": [
    "ratings = pd.read_csv(f\"{dataset_name}/ratings.csv\", header=0, names=['user_id', 'movie_id', 'rating', 'timestamp'], encoding='UTF-8').drop(columns=['timestamp'])\n",
    "\n",
    "ratings['movie_idx'] = ratings['movie_id'].map(index_mapping(ratings['movie_id'].sort_values()))\n",
    "ratings['user_idx'] = ratings['user_id'].map(index_mapping(ratings['user_id']))"
   ]
  },
  {
   "cell_type": "code",
   "execution_count": 4,
   "id": "1b3fa57d",
   "metadata": {},
   "outputs": [
    {
     "name": "stdout",
     "output_type": "stream",
     "text": [
      "<class 'pandas.core.frame.DataFrame'>\n",
      "RangeIndex: 25000095 entries, 0 to 25000094\n",
      "Data columns (total 5 columns):\n",
      " #   Column     Dtype  \n",
      "---  ------     -----  \n",
      " 0   user_id    int64  \n",
      " 1   movie_id   int64  \n",
      " 2   rating     float64\n",
      " 3   movie_idx  int64  \n",
      " 4   user_idx   int64  \n",
      "dtypes: float64(1), int64(4)\n",
      "memory usage: 953.7 MB\n"
     ]
    }
   ],
   "source": [
    "ratings.info()"
   ]
  },
  {
   "cell_type": "code",
   "execution_count": 5,
   "id": "b7ca6937",
   "metadata": {},
   "outputs": [],
   "source": [
    "d = 50\n",
    "steps = 200\n",
    "delta = 1e-6\n",
    "\n",
    "df = ratings[['user_idx', 'movie_idx', 'rating']]\n",
    "train, test = split_test(df, 'user_idx', seed=42)\n",
    "\n",
    "M = sps.csr_matrix((train['rating'].to_numpy(), (train['movie_idx'].to_numpy(), train['user_idx'].to_numpy())))\n",
    "M_test = sps.csr_matrix((test['rating'].to_numpy(), (test['movie_idx'].to_numpy(), test['user_idx'].to_numpy())))\n",
    "W, H = init_wh(M, d, init=42)\n",
    "\n",
    "M1, W1, H1 = M.copy(), W.copy(), H.copy()\n",
    "M2, W2, H2 = M.copy(), W.copy(), H.copy()\n",
    "M3, W3, H3 = M.copy(), W.copy(), H.copy()\n",
    "M4, W4, H4 = M.copy(), W.copy(), H.copy()\n",
    "M5, W5, H5 = M.copy(), W.copy(), H.copy()\n"
   ]
  },
  {
   "cell_type": "code",
   "execution_count": 6,
   "id": "94e7799b",
   "metadata": {},
   "outputs": [
    {
     "name": "stdout",
     "output_type": "stream",
     "text": [
      "298.28684\n",
      "23.6188\n",
      "65.0164\n",
      "(59047, 162541)\n",
      "(59047, 50)\n",
      "(50, 162541)\n"
     ]
    }
   ],
   "source": [
    "print(approx_size(M))\n",
    "print(approx_size(W))\n",
    "print(approx_size(H))\n",
    "print(M.shape)\n",
    "print(W.shape)\n",
    "print(H.shape)"
   ]
  },
  {
   "cell_type": "code",
   "execution_count": 7,
   "id": "13f8ca37",
   "metadata": {},
   "outputs": [
    {
     "name": "stdout",
     "output_type": "stream",
     "text": [
      "------- SKLEARN NMF -------\n",
      "Time in s: 97.65741276741028\n",
      "RMSE: 3.0027578132948913\n",
      "Density M: 0.26%, W: 99.78%, H: 100.00%\n"
     ]
    }
   ],
   "source": [
    "import sklearn.decomposition\n",
    "print(\"------- SKLEARN NMF -------\")\n",
    "start = time.time()\n",
    "\n",
    "model = sklearn.decomposition.NMF(d, init='custom', solver='mu', max_iter=steps, alpha_H=0.0)\n",
    "W = model.fit_transform(X=M, W=W, H=H)\n",
    "H = model.components_\n",
    "\n",
    "end = time.time()\n",
    "print(f\"Time in s: {end - start}\")\n",
    "\n",
    "\n",
    "err = rmse_error_md(M_test, W, H)\n",
    "print(f\"RMSE: {err}\")\n",
    "print(f\"Density M: {density(M):.2%}, W: {density(W):.2%}, H: {density(H):.2%}\")"
   ]
  },
  {
   "cell_type": "code",
   "execution_count": 8,
   "id": "b0ba2f30",
   "metadata": {},
   "outputs": [
    {
     "name": "stdout",
     "output_type": "stream",
     "text": [
      "------- SKLEARN NMF 2 -------\n"
     ]
    },
    {
     "name": "stderr",
     "output_type": "stream",
     "text": [
      "/Users/marcschachtsiek/opt/anaconda3/envs/maths/lib/python3.10/site-packages/sklearn/decomposition/_nmf.py:1692: ConvergenceWarning: Maximum number of iterations 200 reached. Increase it to improve convergence.\n",
      "  warnings.warn(\n"
     ]
    },
    {
     "name": "stdout",
     "output_type": "stream",
     "text": [
      "Time in s: 573.3787798881531\n",
      "RMSE: 3.0183202091945533\n",
      "Density M: 0.26%, W: 9.41%, H: 36.88%\n"
     ]
    }
   ],
   "source": [
    "import sklearn.decomposition\n",
    "print(\"------- SKLEARN NMF 2 -------\")\n",
    "start = time.time()\n",
    "\n",
    "model2 = sklearn.decomposition.NMF(d)\n",
    "W = model2.fit_transform(X=M)\n",
    "H = model2.components_\n",
    "\n",
    "end = time.time()\n",
    "print(f\"Time in s: {end - start}\")\n",
    "\n",
    "\n",
    "err = rmse_error_md(M_test, W, H)\n",
    "print(f\"RMSE: {err}\")\n",
    "print(f\"Density M: {density(M):.2%}, W: {density(W):.2%}, H: {density(H):.2%}\")"
   ]
  },
  {
   "cell_type": "code",
   "execution_count": 9,
   "id": "a750022f",
   "metadata": {},
   "outputs": [
    {
     "name": "stdout",
     "output_type": "stream",
     "text": [
      "------- PCTEAM NMF -------\n",
      "Time in s: 460.3576719760895\n",
      "RMSE: 2.981593228493385\n",
      "Density M: 0.26%, W: 100.00%, H: 100.00%\n"
     ]
    }
   ],
   "source": [
    "print(\"------- PCTEAM NMF -------\")\n",
    "start = time.time()\n",
    "\n",
    "W1, H1, _ = NMF(M1, W1, H1, mu_w, mu_h, delta=delta, max_iter=steps, err_func='rmse')\n",
    "\n",
    "end = time.time()\n",
    "print(f\"Time in s: {end - start}\")\n",
    "\n",
    "err = rmse_error_md(M_test, W1, H1)\n",
    "print(f\"RMSE: {err}\")\n",
    "print(f\"Density M: {density(M1):.2%}, W: {density(W1):.2%}, H: {density(H1):.2%}\")"
   ]
  },
  {
   "cell_type": "code",
   "execution_count": 10,
   "id": "d6bfa48f",
   "metadata": {},
   "outputs": [
    {
     "name": "stdout",
     "output_type": "stream",
     "text": [
      "------- ACCELERATED NMF -------\n"
     ]
    },
    {
     "ename": "KeyboardInterrupt",
     "evalue": "",
     "output_type": "error",
     "traceback": [
      "\u001b[0;31m---------------------------------------------------------------------------\u001b[0m",
      "\u001b[0;31mKeyboardInterrupt\u001b[0m                         Traceback (most recent call last)",
      "Input \u001b[0;32mIn [10]\u001b[0m, in \u001b[0;36m<cell line: 4>\u001b[0;34m()\u001b[0m\n\u001b[1;32m      1\u001b[0m \u001b[38;5;28mprint\u001b[39m(\u001b[38;5;124m\"\u001b[39m\u001b[38;5;124m------- ACCELERATED NMF -------\u001b[39m\u001b[38;5;124m\"\u001b[39m)\n\u001b[1;32m      2\u001b[0m start \u001b[38;5;241m=\u001b[39m time\u001b[38;5;241m.\u001b[39mtime()\n\u001b[0;32m----> 4\u001b[0m W2, H2, _ \u001b[38;5;241m=\u001b[39m \u001b[43mNMF_A\u001b[49m\u001b[43m(\u001b[49m\u001b[43mM2\u001b[49m\u001b[43m,\u001b[49m\u001b[43m \u001b[49m\u001b[43mW2\u001b[49m\u001b[43m,\u001b[49m\u001b[43m \u001b[49m\u001b[43mH2\u001b[49m\u001b[43m,\u001b[49m\u001b[43m \u001b[49m\u001b[43mmu_w\u001b[49m\u001b[43m,\u001b[49m\u001b[43m \u001b[49m\u001b[43mmu_h\u001b[49m\u001b[43m,\u001b[49m\u001b[43m \u001b[49m\u001b[43mdelta\u001b[49m\u001b[38;5;241;43m=\u001b[39;49m\u001b[43mdelta\u001b[49m\u001b[43m,\u001b[49m\u001b[43m \u001b[49m\u001b[43mmax_iter\u001b[49m\u001b[38;5;241;43m=\u001b[39;49m\u001b[43msteps\u001b[49m\u001b[43m,\u001b[49m\u001b[43m \u001b[49m\u001b[43merr_func\u001b[49m\u001b[38;5;241;43m=\u001b[39;49m\u001b[38;5;124;43m'\u001b[39;49m\u001b[38;5;124;43mrmse\u001b[39;49m\u001b[38;5;124;43m'\u001b[39;49m\u001b[43m,\u001b[49m\u001b[43m \u001b[49m\u001b[43malpha\u001b[49m\u001b[38;5;241;43m=\u001b[39;49m\u001b[38;5;241;43m1\u001b[39;49m\u001b[43m,\u001b[49m\u001b[43m \u001b[49m\u001b[43mepsilon\u001b[49m\u001b[38;5;241;43m=\u001b[39;49m\u001b[38;5;241;43m0.1\u001b[39;49m\u001b[43m)\u001b[49m\n\u001b[1;32m      6\u001b[0m end \u001b[38;5;241m=\u001b[39m time\u001b[38;5;241m.\u001b[39mtime()\n\u001b[1;32m      7\u001b[0m \u001b[38;5;28mprint\u001b[39m(\u001b[38;5;124mf\u001b[39m\u001b[38;5;124m\"\u001b[39m\u001b[38;5;124mTime in s: \u001b[39m\u001b[38;5;132;01m{\u001b[39;00mend \u001b[38;5;241m-\u001b[39m start\u001b[38;5;132;01m}\u001b[39;00m\u001b[38;5;124m\"\u001b[39m)\n",
      "File \u001b[0;32m~/General/Programming/ds_proj_01/assignment1-22-pcteam/src/pcteam/nmf.py:183\u001b[0m, in \u001b[0;36mNMF_A\u001b[0;34m(M, W, H, w_update, h_update, delta, max_iter, err_func, alpha, epsilon, log)\u001b[0m\n\u001b[1;32m    181\u001b[0m \u001b[38;5;66;03m# 2nd+ iteration for 'w'\u001b[39;00m\n\u001b[1;32m    182\u001b[0m \u001b[38;5;28;01mfor\u001b[39;00m _ \u001b[38;5;129;01min\u001b[39;00m \u001b[38;5;28mrange\u001b[39m(\u001b[38;5;241m1\u001b[39m, math\u001b[38;5;241m.\u001b[39mfloor(\u001b[38;5;241m1\u001b[39m \u001b[38;5;241m+\u001b[39m alpha \u001b[38;5;241m*\u001b[39m rho_w)):\n\u001b[0;32m--> 183\u001b[0m     W_new \u001b[38;5;241m=\u001b[39m \u001b[43mw_update\u001b[49m\u001b[43m(\u001b[49m\u001b[43mW\u001b[49m\u001b[43m,\u001b[49m\u001b[43m \u001b[49m\u001b[43mdelta\u001b[49m\u001b[43m,\u001b[49m\u001b[43m \u001b[49m\u001b[43mA\u001b[49m\u001b[43m,\u001b[49m\u001b[43m \u001b[49m\u001b[43mB\u001b[49m\u001b[43m)\u001b[49m\n\u001b[1;32m    184\u001b[0m     counts[\u001b[38;5;124m'\u001b[39m\u001b[38;5;124mw\u001b[39m\u001b[38;5;124m'\u001b[39m] \u001b[38;5;241m+\u001b[39m\u001b[38;5;241m=\u001b[39m \u001b[38;5;241m1\u001b[39m\n\u001b[1;32m    186\u001b[0m     \u001b[38;5;28;01mif\u001b[39;00m (frob(W_new, W) \u001b[38;5;241m<\u001b[39m\u001b[38;5;241m=\u001b[39m W_err):\n",
      "File \u001b[0;32m~/General/Programming/ds_proj_01/assignment1-22-pcteam/src/pcteam/nmf.py:74\u001b[0m, in \u001b[0;36mmu_w\u001b[0;34m(W, delta, A, B)\u001b[0m\n\u001b[1;32m     73\u001b[0m \u001b[38;5;28;01mdef\u001b[39;00m \u001b[38;5;21mmu_w\u001b[39m(W, delta, A, B):\n\u001b[0;32m---> 74\u001b[0m     \u001b[38;5;28;01mreturn\u001b[39;00m \u001b[43mnp\u001b[49m\u001b[38;5;241;43m.\u001b[39;49m\u001b[43mmaximum\u001b[49m\u001b[43m(\u001b[49m\u001b[43mW\u001b[49m\u001b[43m \u001b[49m\u001b[38;5;241;43m*\u001b[39;49m\u001b[43m \u001b[49m\u001b[43m(\u001b[49m\u001b[43mA\u001b[49m\u001b[43m \u001b[49m\u001b[38;5;241;43m/\u001b[39;49m\u001b[43m \u001b[49m\u001b[43m(\u001b[49m\u001b[43mW\u001b[49m\u001b[43m \u001b[49m\u001b[38;5;241;43m@\u001b[39;49m\u001b[43m \u001b[49m\u001b[43mB\u001b[49m\u001b[43m)\u001b[49m\u001b[43m)\u001b[49m\u001b[43m,\u001b[49m\u001b[43m \u001b[49m\u001b[43mdelta\u001b[49m\u001b[43m)\u001b[49m\n",
      "\u001b[0;31mKeyboardInterrupt\u001b[0m: "
     ]
    }
   ],
   "source": [
    "print(\"------- ACCELERATED NMF -------\")\n",
    "start = time.time()\n",
    "\n",
    "W2, H2, _ = NMF_A(M2, W2, H2, mu_w, mu_h, delta=delta, max_iter=steps, err_func='rmse', alpha=1, epsilon=0.1)\n",
    "\n",
    "end = time.time()\n",
    "print(f\"Time in s: {end - start}\")\n",
    "\n",
    "err = rmse_error_md(M_test, W2, H2)\n",
    "print(f\"RMSE: {err}\")\n",
    "print(f\"Density M: {density(M2):.2%}, W: {density(W2):.2%}, H: {density(H2):.2%}\")"
   ]
  },
  {
   "cell_type": "code",
   "execution_count": null,
   "id": "e02b7e4f",
   "metadata": {},
   "outputs": [],
   "source": [
    "print(\"------- PCTEAM ONMF 1.0 -------\")\n",
    "start = time.time()\n",
    "\n",
    "W3, H3, _ = ONMF(M3, W3, H3, mu=1.0, delta=delta, max_iter=steps, err_func='rmse')\n",
    "\n",
    "end = time.time()\n",
    "print(f\"Time in s: {end - start}\")\n",
    "\n",
    "err = rmse_error_md(M_test, W3, H3)\n",
    "print(f\"RMSE: {err}\")\n",
    "print(f\"Density M: {density(M3):.2%}, W: {density(W3):.2%}, H: {density(H3):.2%}\")"
   ]
  },
  {
   "cell_type": "code",
   "execution_count": null,
   "id": "9726eb76",
   "metadata": {},
   "outputs": [],
   "source": [
    "print(\"------- PCTEAM ONMF 0.0 -------\")\n",
    "start = time.time()\n",
    "\n",
    "W4, H4, _ = ONMF(M4, W4, H4, mu=0.0, delta=delta, max_iter=steps, err_func='rmse')\n",
    "\n",
    "end = time.time()\n",
    "print(f\"Time in s: {end - start}\")\n",
    "\n",
    "err = rmse_error_md(M_test, W4, H4)\n",
    "print(f\"RMSE: {err}\")\n",
    "print(f\"Density M: {density(M4):.2%}, W: {density(W4):.2%}, H: {density(H4):.2%}\")"
   ]
  },
  {
   "cell_type": "code",
   "execution_count": null,
   "id": "5d38e24d",
   "metadata": {},
   "outputs": [],
   "source": [
    "import sklearn.decomposition\n",
    "print(\"------- SKLEARN T-SVD -------\")\n",
    "start = time.time()\n",
    "\n",
    "model = sklearn.decomposition.TruncatedSVD(d)\n",
    "W5 = model.fit_transform(X=M5)\n",
    "H5 = model.components_\n",
    "\n",
    "end = time.time()\n",
    "print(f\"Time in s: {end - start}\")\n",
    "\n",
    "\n",
    "err = rmse_error_md(M_test, W5, H5)\n",
    "print(f\"RMSE: {err}\")\n",
    "print(f\"Density M: {density(M5):.2%}, W: {density(W5):.2%}, H: {density(H5):.2%}\")"
   ]
  },
  {
   "cell_type": "code",
   "execution_count": null,
   "id": "399e6039",
   "metadata": {},
   "outputs": [],
   "source": [
    "print(frob_error2(H @ H.T, np.eye(d)))\n",
    "print(frob_error2(H1 @ H1.T, np.eye(d)))\n",
    "print(frob_error2(H2 @ H2.T, np.eye(d)))\n",
    "print(frob_error2(H3 @ H3.T, np.eye(d)))\n",
    "print(frob_error2(H4 @ H4.T, np.eye(d)))\n"
   ]
  },
  {
   "cell_type": "code",
   "execution_count": null,
   "id": "64637d52",
   "metadata": {},
   "outputs": [],
   "source": [
    "#with open('pcteam_nmf.csv', 'w') as f:\n",
    "#    for k, v in log.items():\n",
    "#        f.write(f\"{k}, {v}\\n\")\n",
    "\n",
    "#with open('pcteam_nmf.npy', 'wb') as f:\n",
    "#    np.save(f, W)\n",
    "#    np.save(f, H)\n",
    "\n",
    "#with open('sklean_nmf.npy', 'wb') as f:\n",
    "#    np.save(f, W_c)\n",
    "#    np.save(f, H_c)"
   ]
  },
  {
   "cell_type": "code",
   "execution_count": null,
   "id": "956ef9a5",
   "metadata": {},
   "outputs": [],
   "source": [
    "#import cProfile\n",
    "#import re\n",
    "#cProfile.run(\"NMF(M, W, H, w_update=mu_w, h_update=mu_h, delta=1e-16, steps=5, err_func='rmse', log=log, verbose=0)\")\n"
   ]
  },
  {
   "cell_type": "code",
   "execution_count": null,
   "id": "30025bbd",
   "metadata": {},
   "outputs": [],
   "source": []
  }
 ],
 "metadata": {
  "kernelspec": {
   "display_name": "Python 3 (ipykernel)",
   "language": "python",
   "name": "python3"
  },
  "language_info": {
   "codemirror_mode": {
    "name": "ipython",
    "version": 3
   },
   "file_extension": ".py",
   "mimetype": "text/x-python",
   "name": "python",
   "nbconvert_exporter": "python",
   "pygments_lexer": "ipython3",
   "version": "3.10.6"
  },
  "vscode": {
   "interpreter": {
    "hash": "31f2aee4e71d21fbe5cf8b01ff0e069b9275f58929596ceb00d14d90e3e16cd6"
   }
  }
 },
 "nbformat": 4,
 "nbformat_minor": 5
}
