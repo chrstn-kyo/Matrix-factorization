{
 "cells": [
  {
   "cell_type": "code",
   "execution_count": 1,
   "id": "d33538c9",
   "metadata": {},
   "outputs": [],
   "source": [
    "import numpy as np\n",
    "import pandas as pd\n",
    "from urllib.request import urlretrieve\n",
    "import zipfile\n",
    "import scipy.sparse as sps\n",
    "import time as time\n",
    "import csv\n",
    "import sklearn\n",
    "\n",
    "from pcteam.utils import *\n",
    "from pcteam.nmf import *\n",
    "from pcteam.pca import *"
   ]
  },
  {
   "cell_type": "code",
   "execution_count": 2,
   "id": "8ef3dc29",
   "metadata": {},
   "outputs": [
    {
     "name": "stdout",
     "output_type": "stream",
     "text": [
      "Downloading MovieLens Dataset...\n",
      "Done\n"
     ]
    }
   ],
   "source": [
    "# Load Dataset\n",
    "# https://colab.research.google.com/github/google/eng-edu/blob/main/ml/recommendation-systems/recommendation-systems.ipynb\n",
    "\n",
    "print(\"Downloading MovieLens Dataset...\")\n",
    "\n",
    "dataset_name = \"ml-latest-small\" # To change after \"ml-latest-small\", \"ml-25m\"\n",
    "if not zipfile.is_zipfile(f\"{dataset_name}.zip\"):\n",
    "    urlretrieve(f\"https://files.grouplens.org/datasets/movielens/{dataset_name}.zip\", f\"{dataset_name}.zip\")\n",
    "zipfile.ZipFile(f\"{dataset_name}.zip\", \"r\").extractall()\n",
    "\n",
    "print(\"Done\")"
   ]
  },
  {
   "cell_type": "code",
   "execution_count": 3,
   "id": "a5b2ce53",
   "metadata": {},
   "outputs": [],
   "source": [
    "ratings = pd.read_csv(f\"{dataset_name}/ratings.csv\", header=0, names=['user_id', 'movie_id', 'rating', 'timestamp'], encoding='UTF-8').drop(columns=['timestamp'])\n",
    "\n",
    "ratings['movie_idx'] = ratings['movie_id'].map(index_mapping(ratings['movie_id'].sort_values()))\n",
    "ratings['user_idx'] = ratings['user_id'].map(index_mapping(ratings['user_id']))"
   ]
  },
  {
   "cell_type": "code",
   "execution_count": 4,
   "id": "1b3fa57d",
   "metadata": {},
   "outputs": [
    {
     "name": "stdout",
     "output_type": "stream",
     "text": [
      "<class 'pandas.core.frame.DataFrame'>\n",
      "RangeIndex: 100836 entries, 0 to 100835\n",
      "Data columns (total 5 columns):\n",
      " #   Column     Non-Null Count   Dtype  \n",
      "---  ------     --------------   -----  \n",
      " 0   user_id    100836 non-null  int64  \n",
      " 1   movie_id   100836 non-null  int64  \n",
      " 2   rating     100836 non-null  float64\n",
      " 3   movie_idx  100836 non-null  int64  \n",
      " 4   user_idx   100836 non-null  int64  \n",
      "dtypes: float64(1), int64(4)\n",
      "memory usage: 3.8 MB\n"
     ]
    }
   ],
   "source": [
    "ratings.info()"
   ]
  },
  {
   "cell_type": "code",
   "execution_count": 5,
   "id": "b7ca6937",
   "metadata": {},
   "outputs": [],
   "source": [
    "d = 20\n",
    "steps = 100\n",
    "delta = 1e-6\n",
    "\n",
    "df = ratings[['user_idx', 'movie_idx', 'rating']]\n",
    "train, test = split_test(df, 'user_idx', seed=42)\n",
    "\n",
    "M = sps.csr_matrix((train['rating'].to_numpy(), (train['user_idx'].to_numpy(), train['movie_idx'].to_numpy())))\n",
    "M_test = sps.csr_matrix((test['rating'].to_numpy(), (test['user_idx'].to_numpy(), test['movie_idx'].to_numpy())))\n",
    "W, H = init_wh(M, d, init=42)\n",
    "\n",
    "M1, W1, H1 = M.copy(), W.copy(), H.copy()\n",
    "M2, W2, H2 = M.copy(), W.copy(), H.copy()\n",
    "M3, W3, H3 = M.copy(), W.copy(), H.copy()\n",
    "M4, W4, H4 = M.copy(), W.copy(), H.copy()\n",
    "M5, W5, H5 = M.copy(), W.copy(), H.copy()\n"
   ]
  },
  {
   "cell_type": "code",
   "execution_count": 6,
   "id": "94e7799b",
   "metadata": {
    "scrolled": true
   },
   "outputs": [
    {
     "name": "stdout",
     "output_type": "stream",
     "text": [
      "1.205156\n",
      "0.0976\n",
      "1.55584\n",
      "(610, 9724)\n",
      "(610, 20)\n",
      "(20, 9724)\n"
     ]
    }
   ],
   "source": [
    "print(approx_size(M))\n",
    "print(approx_size(W))\n",
    "print(approx_size(H))\n",
    "print(M.shape)\n",
    "print(W.shape)\n",
    "print(H.shape)"
   ]
  },
  {
   "cell_type": "code",
   "execution_count": 7,
   "id": "30025bbd",
   "metadata": {},
   "outputs": [
    {
     "name": "stdout",
     "output_type": "stream",
     "text": [
      "------- POWER FACTORISATION -------\n",
      "0\n",
      "1\n",
      "2\n",
      "3\n",
      "4\n",
      "5\n",
      "6\n",
      "7\n",
      "8\n",
      "9\n",
      "10\n",
      "11\n",
      "12\n",
      "13\n",
      "14\n",
      "15\n",
      "16\n",
      "17\n",
      "18\n",
      "19\n",
      "20\n",
      "21\n",
      "22\n",
      "23\n",
      "24\n",
      "25\n",
      "26\n",
      "27\n",
      "28\n",
      "29\n",
      "30\n",
      "31\n",
      "32\n",
      "33\n",
      "34\n",
      "35\n",
      "36\n",
      "37\n",
      "38\n",
      "39\n",
      "40\n",
      "41\n",
      "42\n",
      "43\n",
      "44\n",
      "45\n",
      "46\n",
      "47\n",
      "48\n",
      "49\n",
      "50\n",
      "51\n",
      "52\n",
      "53\n",
      "54\n",
      "55\n",
      "56\n",
      "57\n",
      "58\n",
      "59\n",
      "60\n",
      "61\n",
      "62\n",
      "63\n",
      "64\n",
      "65\n",
      "66\n",
      "67\n",
      "68\n",
      "69\n",
      "70\n",
      "71\n",
      "72\n",
      "73\n",
      "74\n",
      "75\n",
      "76\n",
      "77\n",
      "78\n",
      "79\n",
      "80\n",
      "81\n",
      "82\n",
      "83\n",
      "84\n",
      "85\n",
      "86\n",
      "87\n",
      "88\n",
      "89\n",
      "90\n",
      "91\n",
      "92\n",
      "93\n",
      "94\n",
      "95\n",
      "96\n",
      "97\n",
      "98\n",
      "99\n",
      "Time in s: 454.31353783607483\n",
      "RMSE: 3.095952048872313\n",
      "Sparsity M: 1.69%, W: 100.00%, H: 99.84%\n"
     ]
    }
   ],
   "source": [
    "print(\"------- POWER FACTORISATION -------\")\n",
    "start = time.time()\n",
    "\n",
    "W, H = powerfac(M, W, H, max_iter=steps, verbose=1)\n",
    "\n",
    "end = time.time()\n",
    "print(f\"Time in s: {end - start}\")\n",
    "\n",
    "\n",
    "err = rmse_error_md(M_test, W, H)\n",
    "print(f\"RMSE: {err}\")\n",
    "print(f\"Sparsity M: {density(M):.2%}, W: {density(W):.2%}, H: {density(H):.2%}\")"
   ]
  },
  {
   "cell_type": "code",
   "execution_count": null,
   "id": "57a11780",
   "metadata": {},
   "outputs": [],
   "source": []
  }
 ],
 "metadata": {
  "kernelspec": {
   "display_name": "Python 3 (ipykernel)",
   "language": "python",
   "name": "python3"
  },
  "language_info": {
   "codemirror_mode": {
    "name": "ipython",
    "version": 3
   },
   "file_extension": ".py",
   "mimetype": "text/x-python",
   "name": "python",
   "nbconvert_exporter": "python",
   "pygments_lexer": "ipython3",
   "version": "3.10.6"
  },
  "vscode": {
   "interpreter": {
    "hash": "31f2aee4e71d21fbe5cf8b01ff0e069b9275f58929596ceb00d14d90e3e16cd6"
   }
  }
 },
 "nbformat": 4,
 "nbformat_minor": 5
}
